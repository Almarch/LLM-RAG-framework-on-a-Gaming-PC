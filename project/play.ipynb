{
 "cells": [
  {
   "cell_type": "code",
   "execution_count": null,
   "metadata": {
    "vscode": {
     "languageId": "plaintext"
    }
   },
   "outputs": [],
   "source": [
    "import requests\n",
    "\n",
    "# Local API URL\n",
    "API_URL = \"http://0.0.0.0:7777/hey\""
   ]
  },
  {
   "cell_type": "code",
   "execution_count": null,
   "metadata": {
    "vscode": {
     "languageId": "plaintext"
    }
   },
   "outputs": [],
   "source": [
    "# Prepare the input text\n",
    "input_text = {\"text\": [\n",
    "    {\"role\": \"user\", \"content\": \"Bonjour, ça va ?\"}\n",
    "]}\n",
    "\n",
    "# Send the POST request\n",
    "response = requests.post(API_URL, json = input_text)\n",
    "\n",
    "# Print the output\n",
    "print(response.json())"
   ]
  }
 ],
 "metadata": {
  "language_info": {
   "name": "python"
  }
 },
 "nbformat": 4,
 "nbformat_minor": 2
}
