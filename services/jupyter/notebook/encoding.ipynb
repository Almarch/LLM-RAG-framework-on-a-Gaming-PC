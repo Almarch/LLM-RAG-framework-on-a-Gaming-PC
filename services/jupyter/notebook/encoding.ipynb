{
 "cells": [
  {
   "cell_type": "code",
   "execution_count": null,
   "id": "e55539e8-17ea-4f6c-80d7-95c684ed9138",
   "metadata": {},
   "outputs": [],
   "source": [
    "text = \"\"\"\n",
    "Un jour, il y eut une petite fille qui vivait dans une forêt dense et mystérieuse.\n",
    "Elle avait des cheveux noirs que la lumière du soleil ne pouvait pas éclaircir, et\n",
    "ses yeux étaient un bleu plus profond qu'un lac au fond d'une grotte. Elle était\n",
    "solitaire et aimait les oiseaux, qui volaient dans les arbres de sa forêt, et les\n",
    "animaux, qui se balançaient à travers la végétation. Un jour, elle trouva un chat\n",
    "sauvage au bord du chemin. C'était le plus beau chat qu'elle avait jamais vu, avec\n",
    "des yeux vifs et des oreilles pointues. Elle l'adopta immédiatement, sans se soucier\n",
    "de ce qu'en disent d'autres personnes. Les années ont passé et la petite fille est\n",
    "devenue une jeune femme, mais le chat était toujours là avec elle, gardant sa\n",
    "compagnie et protégeant son cœur. Elle était heureuse et ne voulait jamais quitter\n",
    "sa forêt mystérieuse. Cependant, un jour, elle reçut une lettre qui lui ordonnait\n",
    "de partir pour une autre ville loin de la forêt.\n",
    "\"\"\""
   ]
  },
  {
   "cell_type": "code",
   "execution_count": null,
   "id": "f2c4c2a6-73f3-4747-a196-6db95c96d535",
   "metadata": {},
   "outputs": [],
   "source": [
    "from sentence_transformers import SentenceTransformer\n",
    "\n",
    "model = SentenceTransformer('sentence-transformers/all-MiniLM-L6-v2', cache_folder = \"/project/models/\")\n",
    "\n",
    "tokens = model.tokenize([text[:1000]])\n",
    "print(len(tokens[\"input_ids\"][0]))\n",
    "tokens = model.tokenize([text[:900]])\n",
    "print(len(tokens[\"input_ids\"][0]))\n",
    "tokens = model.tokenize([text[:750]])\n",
    "print(len(tokens[\"input_ids\"][0]))"
   ]
  },
  {
   "cell_type": "code",
   "execution_count": null,
   "id": "351e29d1-2567-427d-85c8-0d89af7e3902",
   "metadata": {},
   "outputs": [],
   "source": [
    "print(text[:750])"
   ]
  },
  {
   "cell_type": "code",
   "execution_count": null,
   "id": "f4230072-696f-4964-8119-4a4084e7f65a",
   "metadata": {},
   "outputs": [],
   "source": [
    "tokens.keys()"
   ]
  },
  {
   "cell_type": "code",
   "execution_count": null,
   "id": "e1370875-aeb5-4698-ad67-4ed86224e693",
   "metadata": {},
   "outputs": [],
   "source": [
    "tokens[\"input_ids\"]"
   ]
  },
  {
   "cell_type": "code",
   "execution_count": null,
   "id": "b58f205a-7830-4335-81d7-af58cd82a8e7",
   "metadata": {},
   "outputs": [],
   "source": [
    "tokens[\"token_type_ids\"]"
   ]
  },
  {
   "cell_type": "code",
   "execution_count": null,
   "id": "af081e01-2c6c-4efc-8913-7edaf07a74cd",
   "metadata": {},
   "outputs": [],
   "source": [
    "tokens[\"attention_mask\"]"
   ]
  },
  {
   "cell_type": "code",
   "execution_count": null,
   "id": "ba52a313-6790-42ce-9726-ccbc30985298",
   "metadata": {},
   "outputs": [],
   "source": [
    "embedding = model.encode(text[:750])\n",
    "embedding[:10]"
   ]
  },
  {
   "cell_type": "code",
   "execution_count": null,
   "id": "ba46c934-63ee-4b20-96c3-282a4e7fa8ea",
   "metadata": {},
   "outputs": [],
   "source": [
    "sentences = {\n",
    "    \"les_chiens_sont_fideles\": \"Les chiens, compagnons fidèles et dévoués, ont depuis toujours été les plus loyaux amis de l’homme, tissant avec lui un lien indéfectible fondé sur l’amour inconditionnel, la protection et une complicité inégalée. Que ce soit en tant que chiens de travail, de garde ou simplement de compagnie, ils se distinguent par leur intelligence, leur empathie et leur capacité à ressentir les émotions humaines, souvent mieux que bien des êtres humains eux-mêmes. Leur joie communicative, leur enthousiasme débordant à chaque retrouvaille et leur affection sans réserve font d’eux des alliés incomparables dans la vie quotidienne. Ils sont là dans les moments de bonheur, partageant notre excitation, et encore plus présents dans les instants difficiles, apportant réconfort et chaleur par leur simple présence. \",\n",
    "    \"dogs_are_loyal\": \"Dogs, faithful and devoted companions, have always been the most loyal friends of man, weaving an unbreakable bond with him based on unconditional love, protection, and unparalleled companionship. Whether as working dogs, guard dogs, or simply pets, they stand out for their intelligence, empathy, and ability to sense human emotions—often better than many humans themselves. Their contagious joy, boundless enthusiasm at every reunion, and unwavering affection make them incomparable allies in daily life. They are there in moments of happiness, sharing our excitement, and even more present in difficult times, offering comfort and warmth through their mere presence.\",\n",
    "    \"dogs_aint_just_pets\": \"Dogs? Man, they ain't just pets—they’re the realest ride-or-die homies you’ll ever have. No fakin’, no switchin’ sides, just straight-up loyalty, love, and protection. Whether they’re out here working, guarding the spot, or just chillin’ at home, these four-legged legends got instincts sharper than most people. They can read your vibe, feel your moods, and they’ll stick by you no matter what. Pull up after a long day? They’re hyped like you won the lottery. Feeling down? They’re right there, no questions asked, giving you that quiet, unshakable support. Dogs don’t judge, don’t lie, and never leave you hanging—they’re the real OGs of companionship.\",\n",
    "    \"wolves_hunting\": \"A wolf pack, usually composed of an alpha pair, their offspring, and a few other adult members, operates like a well-coordinated unit. Their first step in a hunt is selection. They scan the landscape, looking for signs of weak or vulnerable prey—an injured deer, an old elk, or a young bison lagging behind the herd. Once identified, the wolves move into position, spreading out to surround their target while remaining undetected.\",\n",
    "    \"wolf_taming\": \"I had been following a set of tracks near the river, my breath forming white clouds in the crisp winter air. The storm from the night before had left the forest hushed, its usual sounds muffled beneath thick layers of white. That’s when I saw him—a lone wolf, barely more than a pup, his fur matted with ice, his ribs showing through his silver coat.\",\n",
    "    \"unlucky_shopping\": \"I only needed a few things—bread, milk, and a bottle of wine for dinner—but, of course, the express checkout was packed with people who clearly had more than ten items. I picked the shortest line, hoping for the best, but the person in front of me decided to argue about a discount that didn’t apply. Minutes dragged on, my patience wearing thin.\",\n",
    "    \"lucky_shopping\": \"\"\"The store smelled of freshly baked bread, and the distant hum of chatter filled the air. As I wandered down the aisles, I noticed a bright red sign that caught my attention: \"LIMITED-TIME PROMOTION – 90% OFF SELECT ITEMS!\" My heart skipped a beat. I wasn't expecting to find any deals today, but this was something else. Curious, I hurried toward the section where a small crowd had already gathered. There, stacked neatly on the shelves, were premium chocolates, imported coffee, and high-end olive oil—all marked down to ridiculous prices. A woman next to me grabbed two bottles of extra virgin olive oil and smiled. \"This must be a mistake,\" I muttered under my breath\" \"\"\",\n",
    "}\n",
    "vectors = model.encode(list(sentences.values()))\n",
    "vectors"
   ]
  },
  {
   "cell_type": "code",
   "execution_count": null,
   "id": "37fcd5b6-a2e8-42ca-a0ba-c55e80406829",
   "metadata": {},
   "outputs": [],
   "source": [
    "import pandas as pd\n",
    "import numpy as np\n",
    "from sklearn.decomposition import PCA\n",
    "from sklearn.preprocessing import StandardScaler\n",
    "import matplotlib.pyplot as plt\n",
    "\n",
    "df = pd.DataFrame(\n",
    "    vectors,\n",
    "    index = list(sentences.keys())\n",
    ")\n",
    "\n",
    "scaler = StandardScaler()\n",
    "df_scaled = scaler.fit_transform(df)\n",
    "pca = PCA(n_components=2) \n",
    "principal_components = pca.fit_transform(df_scaled)\n",
    "df_pca = pd.DataFrame(principal_components, columns=['PC1', 'PC2'], index=df.index)\n",
    "\n",
    "explained_var = pca.explained_variance_ratio_ * 100\n",
    "xlabel = f'PC 1, explained variance: {explained_var[0]:.2f}%'\n",
    "ylabel = f'PC 2, explained variance: {explained_var[1]:.2f}%'\n",
    "\n",
    "# Plot PCA with labels\n",
    "plt.figure(figsize=(8, 6))\n",
    "plt.scatter(df_pca['PC1'], df_pca['PC2'])\n",
    "\n",
    "# Add observation names next to points\n",
    "for i, txt in enumerate(df_pca.index):\n",
    "    plt.annotate(txt, (df_pca['PC1'].iloc[i], df_pca['PC2'].iloc[i]), fontsize=12, ha='right', va='bottom')\n",
    "\n",
    "plt.xlabel(xlabel)\n",
    "plt.ylabel(ylabel)\n",
    "plt.title('PCA of the embedding space\\nencoder: all-MiniLM-L6-v2')\n",
    "plt.show()\n"
   ]
  },
  {
   "cell_type": "code",
   "execution_count": null,
   "id": "c660fc23-e1f6-4f74-a600-82dd1e73bfc5",
   "metadata": {},
   "outputs": [],
   "source": [
    "import chromadb\n",
    "from sentence_transformers import SentenceTransformer\n",
    "import uuid\n",
    "\n",
    "# Connect to the ChromaDB server\n",
    "chroma_client = chromadb.HttpClient(host=\"chroma\", port=8000)\n",
    "\n",
    "# Create or get a collection\n",
    "collection = chroma_client.get_or_create_collection(name=\"tests\")"
   ]
  },
  {
   "cell_type": "code",
   "execution_count": null,
   "id": "e177ecd1-5af2-41b7-8962-24eeb9b22de5",
   "metadata": {},
   "outputs": [],
   "source": [
    "collection.add(\n",
    "    ids=[uuid.uuid4().hex + uuid.uuid4().hex for i in range(len(sentences))],\n",
    "    embeddings = vectors,\n",
    "    metadatas = [{\n",
    "        \"text\": name\n",
    "    } for name in sentences.keys()]\n",
    ")"
   ]
  },
  {
   "cell_type": "code",
   "execution_count": null,
   "id": "472accba-fc63-4d20-a9e9-37393d9a2ab2",
   "metadata": {},
   "outputs": [],
   "source": [
    "import chromadb\n",
    "chroma_client = chromadb.HttpClient(host=\"chroma\", port=8000)\n",
    "collection = chroma_client.get_collection(\"tests\")\n",
    "all_items = collection.get(include=[\"embeddings\", \"documents\", \"metadatas\"])\n",
    "\n",
    "print(\"IDs:\", all_items[\"ids\"])\n",
    "print(\"Embeddings:\", all_items[\"embeddings\"])\n",
    "print(\"Metadata:\", all_items[\"metadatas\"])\n",
    "print(\"Documents:\", all_items[\"documents\"])"
   ]
  },
  {
   "cell_type": "code",
   "execution_count": null,
   "id": "ff8f3219-d94e-419d-a35f-cc03b1e4313e",
   "metadata": {},
   "outputs": [],
   "source": [
    "model = SentenceTransformer('sentence-transformers/all-mpnet-base-v2', cache_folder = \"/project/models/\")\n",
    "\n",
    "vectors = model.encode(list(sentences.values()))\n",
    "df = pd.DataFrame(\n",
    "    vectors,\n",
    "    index = list(sentences.keys())\n",
    ")\n",
    "\n",
    "scaler = StandardScaler()\n",
    "df_scaled = scaler.fit_transform(df)\n",
    "pca = PCA(n_components=2) \n",
    "principal_components = pca.fit_transform(df_scaled)\n",
    "df_pca = pd.DataFrame(principal_components, columns=['PC1', 'PC2'], index=df.index)\n",
    "\n",
    "explained_var = pca.explained_variance_ratio_ * 100  # Convert to percentage\n",
    "xlabel = f'PC 1, explained variance: {explained_var[0]:.2f}%'\n",
    "ylabel = f'PC 2, explained variance: {explained_var[1]:.2f}%'\n",
    "\n",
    "# Plot PCA with labels\n",
    "plt.figure(figsize=(8, 6))\n",
    "plt.scatter(df_pca['PC1'], df_pca['PC2'])\n",
    "\n",
    "# Add observation names next to points\n",
    "for i, txt in enumerate(df_pca.index):\n",
    "    plt.annotate(txt, (df_pca['PC1'].iloc[i], df_pca['PC2'].iloc[i]), fontsize=12, ha='right', va='bottom')\n",
    "\n",
    "plt.xlabel(xlabel)\n",
    "plt.ylabel(ylabel)\n",
    "plt.title('PCA of the embedding space\\nencoder: all-mpnet-base-v2')\n",
    "plt.show()\n"
   ]
  },
  {
   "cell_type": "code",
   "execution_count": null,
   "id": "ab0b4cee-c2b2-4d8d-8578-2e1f48c62ab7",
   "metadata": {},
   "outputs": [],
   "source": [
    "import chromadb\n",
    "\n",
    "client = chromadb.HttpClient(host = \"chroma\", port = 8000)\n",
    "print(client.list_collections())\n",
    "\n",
    "client.delete_collection(\"tests\")\n",
    "print(client.list_collections())"
   ]
  }
 ],
 "metadata": {
  "kernelspec": {
   "display_name": "Python 3 (ipykernel)",
   "language": "python",
   "name": "python3"
  },
  "language_info": {
   "codemirror_mode": {
    "name": "ipython",
    "version": 3
   },
   "file_extension": ".py",
   "mimetype": "text/x-python",
   "name": "python",
   "nbconvert_exporter": "python",
   "pygments_lexer": "ipython3",
   "version": "3.11.6"
  }
 },
 "nbformat": 4,
 "nbformat_minor": 5
}
