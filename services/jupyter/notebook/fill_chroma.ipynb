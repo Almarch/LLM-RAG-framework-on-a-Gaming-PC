{
 "cells": [
  {
   "cell_type": "code",
   "execution_count": 2,
   "id": "670b4392-541e-417e-adb6-d6f9e889d5b3",
   "metadata": {},
   "outputs": [],
   "source": [
    "from Resource import Resource"
   ]
  },
  {
   "cell_type": "code",
   "execution_count": 3,
   "id": "4b9a11f9-7d4f-4c97-86f8-ca618e0499e2",
   "metadata": {},
   "outputs": [
    {
     "name": "stdout",
     "output_type": "stream",
     "text": [
      "13 pages have been scanned\n",
      "48587 characters have been read\n"
     ]
    }
   ],
   "source": [
    "res = Resource(\"data/Chevalier and Frochot - 1997 - La maîtrise de la culture de la truffe.pdf\")"
   ]
  },
  {
   "cell_type": "code",
   "execution_count": 4,
   "id": "8ff750c5-8100-486c-ac81-78e694cf0004",
   "metadata": {},
   "outputs": [
    {
     "name": "stdout",
     "output_type": "stream",
     "text": [
      "Text has been split into 54 chunks\n"
     ]
    },
    {
     "data": {
      "text/plain": [
       "<Resource.Resource at 0x7df78658d890>"
      ]
     },
     "execution_count": 4,
     "metadata": {},
     "output_type": "execute_result"
    }
   ],
   "source": [
    "res.split()"
   ]
  },
  {
   "cell_type": "code",
   "execution_count": 5,
   "id": "a88d7c98-88a6-489b-aa07-925404301bd8",
   "metadata": {},
   "outputs": [
    {
     "name": "stdout",
     "output_type": "stream",
     "text": [
      " \n",
      "\n",
      " \n",
      "\n",
      "LA MAITRISE DE LA CULTURE\n",
      "DE LA TRUFFE\n",
      "\n",
      "s«G. CHEVALIER - H. FROCHOT ES\n",
      "\n",
      "La culture de la truffe offre l’exemple le plus célébre d’application de la mycorhization contrédlée,\n",
      "d’abord a cause de |’aura qui environne ce champignon prestigieux, ensuite parce que c’est la pre-\n",
      "miére application en vraie grandeur de cette méthode a la culture d’un champignon comestible\n",
      "mycorhizien.\n",
      "\n",
      "La truffe est en effet un champignon mycorhizien, qui ne peut donc accomplir son cycle complet\n",
      "qu’avec une plante-héte, comme un Chéne ou un Noisetier.\n",
      "\n",
      "En donnant naissance au plant mycorhizé par la truffe, appelé communément “plant truffier”, INRA\n",
      "reprenait, d’une part les découvertes fondamentales des chercheurs italiens qui avaient les premiers\n",
      "réalisé la synthése mycorhizienne d’une espéce de truffe (Tuber maculatum Vitt.) avec un arbre\n",
      "(Pinus strobus L.) (Fassi et Fontana, 1967), et d’autre part les pratiques traditionnelles des planteurs\n",
      "du Sud de la France qui réalisaient depuis longtemps leurs “pla\n"
     ]
    }
   ],
   "source": [
    "print(res.chunks[0][\"content\"])"
   ]
  },
  {
   "cell_type": "code",
   "execution_count": 6,
   "id": "ced5a135-4e4a-4375-944d-34c6a9a58f1a",
   "metadata": {},
   "outputs": [
    {
     "name": "stdout",
     "output_type": "stream",
     "text": [
      "tiques traditionnelles des planteurs\n",
      "du Sud de la France qui réalisaient depuis longtemps leurs “plants truffiers” a partir de méthodes\n",
      "empiriques, ceci avec plus ou moins de succés (Chevalier et Grente, 1979). La relance de la truffi-\n",
      "culture en déclin demandait, en effet, de disposer a grande échelle de plants truffiers fiables, c’est-\n",
      "a-dire correctement mycorhizés par l’espéce de truffe souhaitée, et non contaminés par d’autres\n",
      "champignons.\n",
      "\n",
      "Cet article propose de faire le point sur l’application, en France, de la mycorhization contrélée a dif-\n",
      "férentes espéces de truffes commercialisables. Aprés avoir présenté brievement ces espéces, nous\n",
      "nous intéresserons essentiellement a deux des espéces les plus répandues en France, la truffe noire\n",
      "dite de Périgord (Tuber melanosporum Vitt.) et la truffe dite de Bourgogne (Tuber uncinatum Chatin).\n",
      "\n",
      "LES TRUFFES COMMERCIALISABLES EN FRANCE\n",
      "\n",
      "On connait une quinzaine d’espéces de truffes sur le sol francais, dont six seulement comestibles\n",
      "et de p\n"
     ]
    }
   ],
   "source": [
    "print(res.chunks[1][\"content\"])"
   ]
  },
  {
   "cell_type": "code",
   "execution_count": 7,
   "id": "bb96f188-f941-419f-8b42-ae4c4cfc83ed",
   "metadata": {},
   "outputs": [
    {
     "name": "stdout",
     "output_type": "stream",
     "text": [
      " Is English: false\n",
      " Is English: false\n",
      " Is English: false\n",
      " Is English: false\n",
      " Is English: false\n",
      "Translating...\n",
      "All chunks have been translated to English\n"
     ]
    },
    {
     "data": {
      "text/plain": [
       "<Resource.Resource at 0x7df78658d890>"
      ]
     },
     "execution_count": 7,
     "metadata": {},
     "output_type": "execute_result"
    }
   ],
   "source": [
    "res.translate()"
   ]
  },
  {
   "cell_type": "code",
   "execution_count": 8,
   "id": "aa8c656d-96b9-497c-a8d4-28e3a0c82056",
   "metadata": {},
   "outputs": [
    {
     "name": "stdout",
     "output_type": "stream",
     "text": [
      "Truffle Culture\n",
      "\n",
      "by G. Chevalier - H. Frochot ES\n",
      "\n",
      "The cultivation of truffles provides the most famous example of controlled mycorrhization, first because of the aura surrounding this prestigious mushroom, and later because it was the first real-scale application of this method to the cultivation of an edible mycorrhizal mushroom.\n",
      "\n",
      "Truffle is indeed a mycorrhizal mushroom, which can only complete its life cycle with a host plant, such as an Oak or Hazel tree.\n",
      "\n",
      "By giving birth to the mycorrhized plant through truffle, commonly known as \"truffier\" plant, INRA was resuming, on the one hand, the fundamental discoveries made by Italian researchers who had first realized the mycorrhization synthesis of a species of truffle (Tuber maculatum Vitt.) with a tree (Pinus strobus L.) (Fassi and Fontana, 1967), and on the other hand, the traditional practices of planters in Southern France who had been doing it for a long time their \"planting\".\n"
     ]
    }
   ],
   "source": [
    "print(res.chunks[0][\"translated\"])"
   ]
  },
  {
   "cell_type": "code",
   "execution_count": 9,
   "id": "e70fb0cb-4cad-41f3-be0c-eee4e256bb80",
   "metadata": {},
   "outputs": [
    {
     "name": "stdout",
     "output_type": "stream",
     "text": [
      "rolled Mycorrhization Applications for Different Truffle Species in France\n",
      "\n",
      "   This article discusses the application of controlled mycorrhization to various edible truffle species in France. After briefly presenting these species, the focus will be on two of the most common ones in France, the black truffle known as Perigord (Tuber melanosporum Vitt.) and the Burgundy truffle (Tuber uncinatum Chatin).\n",
      "\n",
      "   COMMERCIALLY GROWN TRUFFLES IN FRANCE\n",
      "\n",
      "   There are about a dozen truffle species found in French soil, of which only six are edible. The following discussion will focus on these six edible species.\n",
      "\n",
      "   BACKGROUND: TRADITIONAL METHODS OF TUFFIER CULTIVATION BY SOUTHERN FRENCH PLANTERS\n",
      "\n",
      "   Traditional cultivation methods of truffles, known as \"truffier plants,\" have been practiced for a long time by Southern French planters using empirical methods, with varying success (Chevalier and Grente, 1979). The revival of the truffle industry, which was in decline, required large-scale cultivation of reliable truffle plants, meaning correctly mycorrhized by the desired truffle species and not contaminated by other mushrooms.\n",
      "\n",
      "   CONTROLLED MYCORRHIZATION APPLICATIONS FOR DIFFERENT TRUFFLE SPECIES IN FRANCE\n",
      "\n",
      "   The article will then present the controlled mycorrhization applications for different edible truffle species in France, focusing on two of the most common ones: the black truffle known as Perigord (Tuber melanosporum Vitt.) and the Burgundy truffle (Tuber uncinatum Chatin). The discussion will cover topics such as suitable host trees for each species, the mycorrhization process, and strategies for increasing truffle yields while minimizing contamination by other mushrooms.\n",
      "\n",
      "   [Information about controlled mycorrhization applications for the black truffle (Tuber melanosporum Vitt.) and the Burgundy truffle (Tuber uncinatum Chatin) will follow]\n"
     ]
    }
   ],
   "source": [
    "print(res.chunks[1][\"translated\"])"
   ]
  },
  {
   "cell_type": "code",
   "execution_count": 10,
   "id": "92bf826a-2088-4a6e-badc-05344eb1b12b",
   "metadata": {},
   "outputs": [
    {
     "name": "stdout",
     "output_type": "stream",
     "text": [
      "All chunks have been embedded\n"
     ]
    },
    {
     "data": {
      "text/plain": [
       "<Resource.Resource at 0x7df78658d890>"
      ]
     },
     "execution_count": 10,
     "metadata": {},
     "output_type": "execute_result"
    }
   ],
   "source": [
    "res.embed()"
   ]
  },
  {
   "cell_type": "code",
   "execution_count": 11,
   "id": "73afe104-924c-46cd-a460-f4bf9070a9cc",
   "metadata": {},
   "outputs": [
    {
     "name": "stdout",
     "output_type": "stream",
     "text": [
      "Stored in the database\n"
     ]
    }
   ],
   "source": [
    "res.store(\"mushrooms\")"
   ]
  },
  {
   "cell_type": "markdown",
   "id": "250a09fb-197f-4476-930c-7a4fa7073db5",
   "metadata": {},
   "source": [
    "(see also https://huggingface.co/Lajavaness/sentence-camembert-large for french embeddings)"
   ]
  },
  {
   "cell_type": "code",
   "execution_count": 12,
   "id": "0652130e-3332-47e5-9f2f-763393dbd426",
   "metadata": {},
   "outputs": [
    {
     "name": "stdout",
     "output_type": "stream",
     "text": [
      "11 pages have been scanned\n",
      "54321 characters have been read\n"
     ]
    }
   ],
   "source": [
    "res2 = Resource(\"data/Du et al. - 2017 - Mixed-reproductive strategies, competitive mating-type distribution and life cycle of fourteen black morel species.pdf\")"
   ]
  },
  {
   "cell_type": "code",
   "execution_count": 13,
   "id": "8ccd0f2d-9ffa-46de-ba18-4b54e6a9df80",
   "metadata": {},
   "outputs": [
    {
     "name": "stdout",
     "output_type": "stream",
     "text": [
      "Text has been split into 61 chunks\n",
      "Text is already in English\n",
      "All chunks have been embedded\n",
      "Stored in the database\n"
     ]
    }
   ],
   "source": [
    "res2.split().translate(skip = True).embed().store(\"mushrooms\")"
   ]
  },
  {
   "cell_type": "code",
   "execution_count": 14,
   "id": "13b549c5-d77c-43c9-b83c-1054bb8fac78",
   "metadata": {},
   "outputs": [
    {
     "data": {
      "image/png": "[encoded data removed]",
      "text/plain": [
       "<Figure size 800x500 with 1 Axes>"
      ]
     },
     "metadata": {},
     "output_type": "display_data"
    }
   ],
   "source": [
    "import matplotlib.pyplot as plt\n",
    "\n",
    "ntokens = [len(chunk[\"tokens\"][\"input_ids\"][0]) for chunk in res2.chunks]\n",
    "\n",
    "plt.figure(figsize=(8, 5))\n",
    "plt.hist(ntokens, bins=range(1, max(ntokens) + 2), edgecolor='black', alpha=0.7)\n",
    "plt.xlabel(\"Number of tokens per chunk\")\n",
    "plt.ylabel(\"Frequency\")\n",
    "plt.xlabel(\"Number of tokens per chunk\")\n",
    "plt.grid(axis='y', linestyle='--', alpha=0.6)\n",
    "plt.show()"
   ]
  },
  {
   "cell_type": "code",
   "execution_count": 15,
   "id": "128d4916-8851-4a3f-8ae0-867be05a6cbb",
   "metadata": {},
   "outputs": [
    {
     "data": {
      "text/plain": [
       "'45.90163934426229 %'"
      ]
     },
     "execution_count": 15,
     "metadata": {},
     "output_type": "execute_result"
    }
   ],
   "source": [
    "str(100 * sum(1 for x in ntokens if x == 256) / len(ntokens)) + \" %\""
   ]
  }
 ],
 "metadata": {
  "kernelspec": {
   "display_name": "Python 3 (ipykernel)",
   "language": "python",
   "name": "python3"
  },
  "language_info": {
   "codemirror_mode": {
    "name": "ipython",
    "version": 3
   },
   "file_extension": ".py",
   "mimetype": "text/x-python",
   "name": "python",
   "nbconvert_exporter": "python",
   "pygments_lexer": "ipython3",
   "version": "3.11.6"
  }
 },
 "nbformat": 4,
 "nbformat_minor": 5
}
