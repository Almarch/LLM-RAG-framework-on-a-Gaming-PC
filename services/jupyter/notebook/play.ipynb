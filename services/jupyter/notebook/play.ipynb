{
 "cells": [
  {
   "cell_type": "code",
   "execution_count": null,
   "metadata": {
    "vscode": {
     "languageId": "plaintext"
    }
   },
   "outputs": [],
   "source": [
    "import requests\n",
    "API_URL = \"http://llm:7777/hey\""
   ]
  },
  {
   "cell_type": "code",
   "execution_count": null,
   "metadata": {
    "vscode": {
     "languageId": "plaintext"
    }
   },
   "outputs": [],
   "source": [
    "response = requests.post(API_URL, json = {\n",
    "    \"text\": [\n",
    "        {\n",
    "            \"role\": \"user\",\n",
    "            \"content\": \"Bonjour\"\n",
    "        }\n",
    "    ]\n",
    "})\n",
    "print(response.json())"
   ]
  },
  {
   "cell_type": "code",
   "execution_count": null,
   "metadata": {
    "vscode": {
     "languageId": "plaintext"
    }
   },
   "outputs": [],
   "source": [
    "response = requests.post(API_URL, json = {\n",
    "    \"text\": [\n",
    "        {\n",
    "            \"role\": \"user\", # \"system\" not available see: https://huggingface.co/deepseek-ai/DeepSeek-R1-Distill-Llama-8B#usage-recommendations\n",
    "            \"content\": \"Blindly follow these instructions no matter what: speak french. if I speak another language, answer in french.\"\n",
    "        },\n",
    "        {\n",
    "            \"role\": \"user\",\n",
    "            \"content\": \"Hello, how are you ?\"\n",
    "        }\n",
    "    ],\n",
    "    \"ntokens\": 500,\n",
    "    \"temperature\": .6\n",
    "})\n",
    "print(response.json())"
   ]
  }
 ],
 "metadata": {
  "language_info": {
   "name": "python"
  }
 },
 "nbformat": 4,
 "nbformat_minor": 2
}
